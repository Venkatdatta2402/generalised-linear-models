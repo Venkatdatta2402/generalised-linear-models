{
 "cells": [
  {
   "cell_type": "markdown",
   "id": "6c3f6fb6",
   "metadata": {},
   "source": [
    "# Modelling Plasma Concentration of Indomethacin "
   ]
  },
  {
   "cell_type": "markdown",
   "id": "9ccd2ff7",
   "metadata": {},
   "source": [
    "For this project, we'll carry out exploratory analysis on Indometh dataset(built-in dataset in R) and model the plasma concentration of Indomethacin."
   ]
  },
  {
   "cell_type": "markdown",
   "id": "1ead1df9",
   "metadata": {},
   "source": [
    "The dataset is about the pharmacokinetics of Indomethacin.Each of the six subjects in the experiment were given an intravenous injection of indomethacin and their plasma concentrations of indomethacin was monitored."
   ]
  },
  {
   "cell_type": "markdown",
   "id": "acbcdc30",
   "metadata": {},
   "source": [
    "The dataset contains 3 variables:\n",
    "1. Subject : Factor variable with subject codes\n",
    "2. time : a numeric vector of times at which blood samples were drawn (hr)\n",
    "3. conc : a numeric vector of plasma concentrations of indometacin (mcg/ml)"
   ]
  },
  {
   "cell_type": "markdown",
   "id": "9fddf863",
   "metadata": {},
   "source": [
    "Installed packages:"
   ]
  },
  {
   "cell_type": "code",
   "execution_count": 1,
   "id": "4527be13",
   "metadata": {},
   "outputs": [],
   "source": [
    "#install.packages(\"lmtest\")\n",
    "#install.packages(\"statmod\")\n",
    "#install.packages(\"lme4\")"
   ]
  },
  {
   "cell_type": "markdown",
   "id": "23425ebe",
   "metadata": {},
   "source": [
    "Let's start by checking the data types of the 3 variables."
   ]
  },
  {
   "cell_type": "code",
   "execution_count": 2,
   "id": "e48855bd",
   "metadata": {},
   "outputs": [
    {
     "data": {
      "text/html": [
       "<dl>\n",
       "\t<dt>$Subject</dt>\n",
       "\t\t<dd><ol class=list-inline>\n",
       "\t<li>'ordered'</li>\n",
       "\t<li>'factor'</li>\n",
       "</ol>\n",
       "</dd>\n",
       "\t<dt>$time</dt>\n",
       "\t\t<dd>'numeric'</dd>\n",
       "\t<dt>$conc</dt>\n",
       "\t\t<dd>'numeric'</dd>\n",
       "</dl>\n"
      ],
      "text/latex": [
       "\\begin{description}\n",
       "\\item[\\$Subject] \\begin{enumerate*}\n",
       "\\item 'ordered'\n",
       "\\item 'factor'\n",
       "\\end{enumerate*}\n",
       "\n",
       "\\item[\\$time] 'numeric'\n",
       "\\item[\\$conc] 'numeric'\n",
       "\\end{description}\n"
      ],
      "text/markdown": [
       "$Subject\n",
       ":   1. 'ordered'\n",
       "2. 'factor'\n",
       "\n",
       "\n",
       "\n",
       "$time\n",
       ":   'numeric'\n",
       "$conc\n",
       ":   'numeric'\n",
       "\n",
       "\n"
      ],
      "text/plain": [
       "$Subject\n",
       "[1] \"ordered\" \"factor\" \n",
       "\n",
       "$time\n",
       "[1] \"numeric\"\n",
       "\n",
       "$conc\n",
       "[1] \"numeric\"\n"
      ]
     },
     "metadata": {},
     "output_type": "display_data"
    }
   ],
   "source": [
    "lapply(Indometh, class)"
   ]
  },
  {
   "cell_type": "markdown",
   "id": "7c792e30",
   "metadata": {},
   "source": [
    "Checking the head of the dataframe:"
   ]
  },
  {
   "cell_type": "code",
   "execution_count": 3,
   "id": "ee199b4a",
   "metadata": {},
   "outputs": [
    {
     "data": {
      "text/html": [
       "<table>\n",
       "<thead><tr><th scope=col>Subject</th><th scope=col>time</th><th scope=col>conc</th></tr></thead>\n",
       "<tbody>\n",
       "\t<tr><td>1   </td><td>0.25</td><td>1.50</td></tr>\n",
       "\t<tr><td>1   </td><td>0.50</td><td>0.94</td></tr>\n",
       "\t<tr><td>1   </td><td>0.75</td><td>0.78</td></tr>\n",
       "\t<tr><td>1   </td><td>1.00</td><td>0.48</td></tr>\n",
       "\t<tr><td>1   </td><td>1.25</td><td>0.37</td></tr>\n",
       "\t<tr><td>1   </td><td>2.00</td><td>0.19</td></tr>\n",
       "</tbody>\n",
       "</table>\n"
      ],
      "text/latex": [
       "\\begin{tabular}{r|lll}\n",
       " Subject & time & conc\\\\\n",
       "\\hline\n",
       "\t 1    & 0.25 & 1.50\\\\\n",
       "\t 1    & 0.50 & 0.94\\\\\n",
       "\t 1    & 0.75 & 0.78\\\\\n",
       "\t 1    & 1.00 & 0.48\\\\\n",
       "\t 1    & 1.25 & 0.37\\\\\n",
       "\t 1    & 2.00 & 0.19\\\\\n",
       "\\end{tabular}\n"
      ],
      "text/markdown": [
       "\n",
       "| Subject | time | conc |\n",
       "|---|---|---|\n",
       "| 1    | 0.25 | 1.50 |\n",
       "| 1    | 0.50 | 0.94 |\n",
       "| 1    | 0.75 | 0.78 |\n",
       "| 1    | 1.00 | 0.48 |\n",
       "| 1    | 1.25 | 0.37 |\n",
       "| 1    | 2.00 | 0.19 |\n",
       "\n"
      ],
      "text/plain": [
       "  Subject time conc\n",
       "1 1       0.25 1.50\n",
       "2 1       0.50 0.94\n",
       "3 1       0.75 0.78\n",
       "4 1       1.00 0.48\n",
       "5 1       1.25 0.37\n",
       "6 1       2.00 0.19"
      ]
     },
     "metadata": {},
     "output_type": "display_data"
    }
   ],
   "source": [
    "head(Indometh)"
   ]
  },
  {
   "cell_type": "markdown",
   "id": "08a40fa7",
   "metadata": {},
   "source": [
    "## Exploratory Analysis"
   ]
  },
  {
   "cell_type": "markdown",
   "id": "2aa4d7c0",
   "metadata": {},
   "source": [
    "Let's check how the plasma concentration of indomethacin is distributed by plotting a histogram."
   ]
  },
  {
   "cell_type": "code",
   "execution_count": 4,
   "id": "3bf9ad13",
   "metadata": {},
   "outputs": [
    {
     "data": {
      "image/png": "[encoded data removed]",
      "text/plain": [
       "Plot with title \"Histogram of Indomethacin concentration\""
      ]
     },
     "metadata": {},
     "output_type": "display_data"
    }
   ],
   "source": [
    "attach(Indometh)\n",
    "hist(conc,prob = TRUE,xlab = \"concentration of Indomethacin\",main = \"Histogram of Indomethacin concentration\")\n",
    "lines(density(conc), col=\"blue\", lwd=2)"
   ]
  },
  {
   "cell_type": "markdown",
   "id": "252608b6",
   "metadata": {},
   "source": [
    "The above histogram suggests that the concentration of indomethacin is exponentially distributed.\n",
    "Let's validate this observation using a Quantile-quantile plot with theoretical quantiles of exponential distribution."
   ]
  },
  {
   "cell_type": "code",
   "execution_count": 5,
   "id": "22321398",
   "metadata": {},
   "outputs": [
    {
     "data": {
      "image/png": "[encoded data removed]",
      "text/plain": [
       "Plot with title \"Exponential Q-Q Plot\""
      ]
     },
     "metadata": {},
     "output_type": "display_data"
    }
   ],
   "source": [
    "qqplot(x=qexp(ppoints(100)), y=conc, main=\"Exponential Q-Q Plot\",\n",
    "       xlab=\"Theoretical Quantiles\", ylab= \"Your Data Quantiles\")\n",
    "qqline(conc, distribution=qexp)"
   ]
  },
  {
   "cell_type": "markdown",
   "id": "45c773ff",
   "metadata": {},
   "source": [
    "Though the right tail of the distribution of concentrations is deviating a bit from exponential distribution, the overall pattern of the Q-Q plot is approximately linear indicating that the concentration of indomethacin is exponentially distributed. This can be supported by Kolmogorov-Smirnov goodness of fit test(ks test).\n",
    "\n",
    "Firstly, an exponential distribution is to be fitted to the concentration of Indomethacin by Maximum-Likelihood method and the parameters are estimated(MLE). The KS test is performed between concentration of Indomethacin and the data simulated from exponential distribution with estimated parameters(MLE)."
   ]
  },
  {
   "cell_type": "code",
   "execution_count": 6,
   "id": "8bb58c1f",
   "metadata": {},
   "outputs": [
    {
     "name": "stderr",
     "output_type": "stream",
     "text": [
      "Warning message in ks.test(conc, rexp(1000, fit$estimate)):\n",
      "\"p-value will be approximate in the presence of ties\""
     ]
    },
    {
     "data": {
      "text/plain": [
       "\n",
       "\tTwo-sample Kolmogorov-Smirnov test\n",
       "\n",
       "data:  conc and rexp(1000, fit$estimate)\n",
       "D = 0.15348, p-value = 0.1082\n",
       "alternative hypothesis: two-sided\n"
      ]
     },
     "metadata": {},
     "output_type": "display_data"
    }
   ],
   "source": [
    "library(MASS)\n",
    "fit = fitdistr(conc,\"exponential\")\n",
    "ks.test(conc,rexp(1000,fit$estimate))"
   ]
  },
  {
   "cell_type": "markdown",
   "id": "b9423045",
   "metadata": {},
   "source": [
    "The Null hypothesis of the KS test is that both the samples are drawn from the same distribution. The p-value > 0.05 implies that the null hypothesis shouldn't be rejected and concludes the exponential distribution of concentration of Indomethacin."
   ]
  },
  {
   "cell_type": "markdown",
   "id": "f1c699b7",
   "metadata": {},
   "source": [
    "Now let's examine how the concentration of Indomethacin is varying with time."
   ]
  },
  {
   "cell_type": "code",
   "execution_count": 7,
   "id": "2a52de9d",
   "metadata": {},
   "outputs": [
    {
     "data": {
      "image/png": "[encoded data removed]",
      "text/plain": [
       "plot without title"
      ]
     },
     "metadata": {},
     "output_type": "display_data"
    }
   ],
   "source": [
    "plot(time,conc,ylab = \"Concentration of Indomethacin\")"
   ]
  },
  {
   "cell_type": "markdown",
   "id": "95170e3b",
   "metadata": {},
   "source": [
    "It can be inferred from the above scatterplot that the concentration of Indomethacin is inversely related to time. It can be validated by computing the correlation between concentration and inverse of time."
   ]
  },
  {
   "cell_type": "code",
   "execution_count": 8,
   "id": "f15d5ddf",
   "metadata": {},
   "outputs": [
    {
     "name": "stdout",
     "output_type": "stream",
     "text": [
      "[1] \"correlation coefficient between concentration and time is -0.710471852525009\"\n",
      "[1] \"correlation coefficient between concentration and inverse of time is 0.951713361606039\"\n"
     ]
    }
   ],
   "source": [
    "print(paste(\"correlation coefficient between concentration and time is\", cor(conc,time)))\n",
    "print(paste(\"correlation coefficient between concentration and inverse of time is\", cor(conc,1/time)))"
   ]
  },
  {
   "cell_type": "markdown",
   "id": "e1f41471",
   "metadata": {},
   "source": [
    "This concludes the inverse relation between concentration of Indomethacin and time."
   ]
  },
  {
   "cell_type": "markdown",
   "id": "8c73a969",
   "metadata": {},
   "source": [
    "## Model Fitting, Diagnostics and Evaluation"
   ]
  },
  {
   "cell_type": "markdown",
   "id": "874c16e2",
   "metadata": {},
   "source": [
    "### Model Fitting"
   ]
  },
  {
   "cell_type": "markdown",
   "id": "f015f2a6",
   "metadata": {},
   "source": [
    "From the exploratory data analysis, we have observed:\n",
    "1. Concentration of Indomethacin is exponentially distributed.\n",
    "2. Concentration of Indomethacin and time are inversely related.\n",
    "\n",
    "So, it would be ideal to fit:\n",
    "1. A Gamma generalized linear model with inverse link function with Subject and time as independent variables(Model1)\n",
    "2. A Gamma generalized linear model with identity link function with Subject and inverse of time as independent variables(Model2)\n",
    "\n",
    "Let's consider linear regression model(model3) to compare the performance with model1 and model2."
   ]
  },
  {
   "cell_type": "markdown",
   "id": "b3046231",
   "metadata": {},
   "source": [
    "Fitting the 3 models mentioned above:"
   ]
  },
  {
   "cell_type": "code",
   "execution_count": 9,
   "id": "ea6216be",
   "metadata": {},
   "outputs": [],
   "source": [
    "model1 = glm(conc ~ time + Subject, family = Gamma())\n",
    "time_inverse = 1/time\n",
    "model2 = glm(conc ~ time_inverse + Subject, family = Gamma(link = \"identity\"))\n",
    "model3 = glm(conc ~ time_inverse + Subject, family = gaussian())"
   ]
  },
  {
   "cell_type": "markdown",
   "id": "a77fd525",
   "metadata": {},
   "source": [
    "### Model Diagnostics"
   ]
  },
  {
   "cell_type": "markdown",
   "id": "d0d45088",
   "metadata": {},
   "source": [
    "Though we have fit the ideal models based on the exploratory analysis, the data themselves may indicate that a particular model is unsuitable. Thus, model diagnostics is an important precautionary step."
   ]
  },
  {
   "cell_type": "markdown",
   "id": "c0f8c193",
   "metadata": {},
   "source": [
    "Diagnostics of the 3 models:\n",
    "1. Informal check using deviance residuals: Standardized deviance residuals are plotted against the fitted values transformed to the constant-information scale of the error distribution.(2log($\\hat{\\mu}$) for gamma glm and $\\hat{\\mu}$ for normal glm(since the transformation is identity))"
   ]
  },
  {
   "cell_type": "code",
   "execution_count": 10,
   "id": "708bfc15",
   "metadata": {},
   "outputs": [
    {
     "data": {
      "image/png": "[encoded data removed]",
      "text/plain": [
       "Plot with title \"Model3\""
      ]
     },
     "metadata": {},
     "output_type": "display_data"
    }
   ],
   "source": [
    "par(mfrow = c(3,1))\n",
    "plot(2*log(fitted(model1)),rstandard(model1,type = \"deviance\"),xlab = \"Transformed fitted values\",ylab = \"Standardized deviance residuals\",main = \"Model1\")\n",
    "plot(2*log(fitted(model2)),rstandard(model2,type = \"deviance\"),xlab = \"Transformed fitted values\",ylab = \"Standardized deviance residuals\",main = \"Model2\")\n",
    "plot(fitted(model3),rstandard(model3,type = \"deviance\"),xlab = \"Transformed fitted values\",ylab = \"Standardized deviance residuals\",main = \"Model3\")"
   ]
  },
  {
   "cell_type": "markdown",
   "id": "74e13c05",
   "metadata": {},
   "source": [
    "The null pattern of this plot is a uniform distrubtion of residuals about y = 0 line with constant range. Model1 and model2 have a null pattern, whereas model3 has change of range in residuals with fitted values."
   ]
  },
  {
   "cell_type": "markdown",
   "id": "01e498da",
   "metadata": {},
   "source": [
    "2. Checking the link function: A plot of the adjusted dependent variable $z_{i}=\\hat{\\eta}_{i}+(y_{i}-\\hat{\\mu}_{i})(\\frac{\\partial\\eta_{i}}{\\partial\\mu_{i}})_{\\beta=\\hat{\\beta}}$ against $\\hat{\\eta}_{i}$ gives an informal check on the link function."
   ]
  },
  {
   "cell_type": "code",
   "execution_count": 11,
   "id": "27afb958",
   "metadata": {},
   "outputs": [
    {
     "data": {
      "image/png": "[encoded data removed]",
      "text/plain": [
       "Plot with title \"Model3\""
      ]
     },
     "metadata": {},
     "output_type": "display_data"
    }
   ],
   "source": [
    "par(mfrow = c(3,1))\n",
    "plot(1/fitted(model1),1/fitted(model1) - (conc-fitted(model1))/(fitted(model1))^2,xlab = \"Eta hat\",ylab = \"z\",main = \"Model1\")\n",
    "plot(fitted(model2),conc,xlab = \"Eta hat\",ylab = \"z\",main = \"Model2\")\n",
    "plot(fitted(model3),conc,xlab = \"Eta hat\",ylab = \"z\",main = \"Model3\")"
   ]
  },
  {
   "cell_type": "markdown",
   "id": "559a08a5",
   "metadata": {},
   "source": [
    "The null pattern of this plot is a straight line. All the 3 models do not have curvature and therefore have a null pattern indicating there are no concerns with link function."
   ]
  },
  {
   "cell_type": "markdown",
   "id": "8810c3db",
   "metadata": {},
   "source": [
    "3. Checking the model fit: The actual values of dependent variable are plotted against independent variable and smooth line of the fitted model is plotted on top of this scatter plot."
   ]
  },
  {
   "cell_type": "code",
   "execution_count": 12,
   "id": "dcae8bee",
   "metadata": {},
   "outputs": [
    {
     "data": {
      "image/png": "[encoded data removed]",
      "text/plain": [
       "Plot with title \"Model 3\""
      ]
     },
     "metadata": {},
     "output_type": "display_data"
    }
   ],
   "source": [
    "par(mfrow = c(3,3))\n",
    "plot(time[Subject == 1],fitted(model1)[Subject == 1],ylim = c(0,2.5),type = \"l\",col = \"red\",xlab = \"Time\",ylab = \"Concentration\",sub = \"Subject 1\",main = \"Model 1\")\n",
    "points(time[Subject == 1],conc[Subject == 1])\n",
    "plot(time[Subject == 1],fitted(model2)[Subject == 1],ylim = c(0,2.5),type = \"l\",col = \"red\",xlab = \"Time\",ylab = \"Concentration\",sub = \"Subject 1\",main = \"Model 2\")\n",
    "points(time[Subject == 1],conc[Subject == 1])\n",
    "plot(time[Subject == 1],fitted(model3)[Subject == 1],ylim = c(0,2.5),type = \"l\",col = \"red\",xlab = \"Time\",ylab = \"Concentration\",sub = \"Subject 1\",main = \"Model 3\")\n",
    "points(time[Subject == 1],conc[Subject == 1])\n",
    "plot(time[Subject == 2],fitted(model1)[Subject == 2],ylim = c(0,2.5),type = \"l\",col = \"red\",xlab = \"Time\",ylab = \"Concentration\",sub = \"Subject 2\",main = \"Model 1\")\n",
    "points(time[Subject == 2],conc[Subject == 2])\n",
    "plot(time[Subject == 2],fitted(model2)[Subject == 2],ylim = c(0,2.5),type = \"l\",col = \"red\",xlab = \"Time\",ylab = \"Concentration\",sub = \"Subject 2\",main = \"Model 2\")\n",
    "points(time[Subject == 2],conc[Subject == 2])\n",
    "plot(time[Subject == 2],fitted(model3)[Subject == 2],ylim = c(0,2.5),type = \"l\",col = \"red\",xlab = \"Time\",ylab = \"Concentration\",sub = \"Subject 2\",main = \"Model 3\")\n",
    "points(time[Subject == 2],conc[Subject == 2])\n",
    "plot(time[Subject == 3],fitted(model1)[Subject == 3],ylim = c(0,2.5),type = \"l\",col = \"red\",xlab = \"Time\",ylab = \"Concentration\",sub = \"Subject 3\",main = \"Model 1\")\n",
    "points(time[Subject == 3],conc[Subject == 3])\n",
    "plot(time[Subject == 3],fitted(model2)[Subject == 3],ylim = c(0,2.5),type = \"l\",col = \"red\",xlab = \"Time\",ylab = \"Concentration\",sub = \"Subject 3\",main = \"Model 2\")\n",
    "points(time[Subject == 3],conc[Subject == 3])\n",
    "plot(time[Subject == 3],fitted(model3)[Subject == 3],ylim = c(0,2.5),type = \"l\",col = \"red\",xlab = \"Time\",ylab = \"Concentration\",sub = \"Subject 3\",main = \"Model 3\")\n",
    "points(time[Subject == 3],conc[Subject == 3])\n"
   ]
  },
  {
   "cell_type": "code",
   "execution_count": 13,
   "id": "8d380634",
   "metadata": {},
   "outputs": [
    {
     "data": {
      "image/png": "[encoded data removed]",
      "text/plain": [
       "Plot with title \"Model 3\""
      ]
     },
     "metadata": {},
     "output_type": "display_data"
    }
   ],
   "source": [
    "par(mfrow = c(3,3))\n",
    "plot(time[Subject == 4],fitted(model1)[Subject == 4],ylim = c(0,2.5),type = \"l\",col = \"red\",xlab = \"Time\",ylab = \"Concentration\",sub = \"Subject 4\",main = \"Model 1\")\n",
    "points(time[Subject == 4],conc[Subject == 4])\n",
    "plot(time[Subject == 4],fitted(model2)[Subject == 4],ylim = c(0,2.5),type = \"l\",col = \"red\",xlab = \"Time\",ylab = \"Concentration\",sub = \"Subject 4\",main = \"Model 2\")\n",
    "points(time[Subject == 4],conc[Subject == 4])\n",
    "plot(time[Subject == 4],fitted(model3)[Subject == 4],ylim = c(0,2.5),type = \"l\",col = \"red\",xlab = \"Time\",ylab = \"Concentration\",sub = \"Subject 4\",main = \"Model 3\")\n",
    "points(time[Subject == 4],conc[Subject == 4])\n",
    "plot(time[Subject == 5],fitted(model1)[Subject == 5],ylim = c(0,2.5),type = \"l\",col = \"red\",xlab = \"Time\",ylab = \"Concentration\",sub = \"Subject 5\",main = \"Model 1\")\n",
    "points(time[Subject == 5],conc[Subject == 5])\n",
    "plot(time[Subject == 5],fitted(model2)[Subject == 5],ylim = c(0,2.5),type = \"l\",col = \"red\",xlab = \"Time\",ylab = \"Concentration\",sub = \"Subject 5\",main = \"Model 2\")\n",
    "points(time[Subject == 5],conc[Subject == 5])\n",
    "plot(time[Subject == 5],fitted(model3)[Subject == 5],ylim = c(0,2.5),type = \"l\",col = \"red\",xlab = \"Time\",ylab = \"Concentration\",sub = \"Subject 5\",main = \"Model 3\")\n",
    "points(time[Subject == 5],conc[Subject == 5])\n",
    "plot(time[Subject == 6],fitted(model1)[Subject == 6],ylim = c(0,2.5),type = \"l\",col = \"red\",xlab = \"Time\",ylab = \"Concentration\",sub = \"Subject 6\",main = \"Model 1\")\n",
    "points(time[Subject == 6],conc[Subject == 6])\n",
    "plot(time[Subject == 6],fitted(model2)[Subject == 6],ylim = c(0,2.5),type = \"l\",col = \"red\",xlab = \"Time\",ylab = \"Concentration\",sub = \"Subject 6\",main = \"Model 2\")\n",
    "points(time[Subject == 6],conc[Subject == 6])\n",
    "plot(time[Subject == 6],fitted(model3)[Subject == 6],ylim = c(0,2.5),type = \"l\",col = \"red\",xlab = \"Time\",ylab = \"Concentration\",sub = \"Subject 6\",main = \"Model 3\")\n",
    "points(time[Subject == 6],conc[Subject == 6])"
   ]
  },
  {
   "cell_type": "markdown",
   "id": "860b3875",
   "metadata": {},
   "source": [
    "Model3 has performed well in fitting the values of concentration of Indomethacin in the early hours, however, it was inaccurate after longer periods of time. Both model1 and model2 seems to have performed equally well and raise no concerns."
   ]
  },
  {
   "cell_type": "markdown",
   "id": "5c1c44f9",
   "metadata": {},
   "source": [
    "Therefore, the model diagnostics conclude that there aren't any red flags raised for model1 and model2 unlike model3."
   ]
  },
  {
   "cell_type": "markdown",
   "id": "b9571d81",
   "metadata": {},
   "source": [
    "### Model Evaluation"
   ]
  },
  {
   "cell_type": "markdown",
   "id": "57420237",
   "metadata": {},
   "source": [
    "The parameters in the generalized linear model are estimated using Maximum-Likelihood method. Unlike Gaussian glm, the Maximum-Likelihood estimates in generalized linear models aren't same as the OLS estimates. So, it's important to choose Maximum-Likelihood based evaluation metrics."
   ]
  },
  {
   "cell_type": "markdown",
   "id": "3dbe28ab",
   "metadata": {},
   "source": [
    "1. Akaike Information Criterion(AIC): It is an evaluation metric used to compare different possible models and determine which one is the best fit. According to AIC, the best fit model will be the one that neither under-fits nor over-fits. The best fitted model among a set of models is the one with least AIC.$$AIC=2k-2ln(\\hat{L})$$where k = number of estimated parameters in the model and $\\hat{L}$= maximum value of the likelihood function of the model."
   ]
  },
  {
   "cell_type": "markdown",
   "id": "3977a9f7",
   "metadata": {},
   "source": [
    "2. Cox-Snell Pseudo-$R^{2}$: It is based on the log-likelihood of the model compared to the log-likelihood of a baseline model. According to pseudo-$R^{2}$, the best fit model will be the one that best predicts the observed values. The model with largest pseudo-$R^{2}$ is best fitted model according to this metric. However, this metric alone can be quite misleading as it doesn't account for the over-fitting.$$Cox-Snell R^{2}=1-(\\frac{L_{0}}{L_{M}})^{\\frac{2}{n}}$$where $L_{M}$= maximum value of the likelihood function of the model M and $L_{0}$= the value of likelihood function for a model with no predictors."
   ]
  },
  {
   "cell_type": "code",
   "execution_count": 14,
   "id": "b35dd4be",
   "metadata": {},
   "outputs": [
    {
     "name": "stderr",
     "output_type": "stream",
     "text": [
      "Warning message:\n",
      "\"package 'lmtest' was built under R version 3.6.3\"Loading required package: zoo\n",
      "Warning message:\n",
      "\"package 'zoo' was built under R version 3.6.3\"\n",
      "Attaching package: 'zoo'\n",
      "\n",
      "The following objects are masked from 'package:base':\n",
      "\n",
      "    as.Date, as.Date.numeric\n",
      "\n"
     ]
    },
    {
     "data": {
      "text/html": [
       "<table>\n",
       "<thead><tr><th scope=col>Model</th><th scope=col>AIC</th><th scope=col>CoxSnell_PseudoR2</th></tr></thead>\n",
       "<tbody>\n",
       "\t<tr><td>Model1           </td><td>-120.268806155195</td><td>0.951614426090176</td></tr>\n",
       "\t<tr><td>Model2           </td><td>-136.270458748901</td><td>0.962031668607647</td></tr>\n",
       "\t<tr><td>Model3           </td><td>-37.3350665495358</td><td>0.933783979350241</td></tr>\n",
       "</tbody>\n",
       "</table>\n"
      ],
      "text/latex": [
       "\\begin{tabular}{lll}\n",
       " Model & AIC & CoxSnell\\_PseudoR2\\\\\n",
       "\\hline\n",
       "\t Model1            & -120.268806155195 & 0.951614426090176\\\\\n",
       "\t Model2            & -136.270458748901 & 0.962031668607647\\\\\n",
       "\t Model3            & -37.3350665495358 & 0.933783979350241\\\\\n",
       "\\end{tabular}\n"
      ],
      "text/markdown": [
       "\n",
       "| Model | AIC | CoxSnell_PseudoR2 |\n",
       "|---|---|---|\n",
       "| Model1            | -120.268806155195 | 0.951614426090176 |\n",
       "| Model2            | -136.270458748901 | 0.962031668607647 |\n",
       "| Model3            | -37.3350665495358 | 0.933783979350241 |\n",
       "\n"
      ],
      "text/plain": [
       "     Model  AIC               CoxSnell_PseudoR2\n",
       "[1,] Model1 -120.268806155195 0.951614426090176\n",
       "[2,] Model2 -136.270458748901 0.962031668607647\n",
       "[3,] Model3 -37.3350665495358 0.933783979350241"
      ]
     },
     "metadata": {},
     "output_type": "display_data"
    }
   ],
   "source": [
    "library(lmtest)\n",
    "Model = c(\"Model1\",\"Model2\",\"Model3\")\n",
    "AIC = c(AIC(model1),AIC(model2),AIC(model3))\n",
    "CoxSnell_PseudoR2 = c(1-(exp(lrtest(model1)$LogLik[2])/exp(lrtest(model1)$LogLik[1]))^(2/nrow(Indometh)),\n",
    "                      1-(exp(lrtest(model2)$LogLik[2])/exp(lrtest(model2)$LogLik[1]))^(2/nrow(Indometh)),\n",
    "                      1-(exp(lrtest(model3)$LogLik[2])/exp(lrtest(model3)$LogLik[1]))^(2/nrow(Indometh)))\n",
    "Modelevaluation = cbind(Model,AIC,CoxSnell_PseudoR2)\n",
    "Modelevaluation"
   ]
  },
  {
   "cell_type": "markdown",
   "id": "f38b72bf",
   "metadata": {},
   "source": [
    "Both model1 and model2 are significantly better than model3 as expected. Moreover, model2 has slightly outperformed model1."
   ]
  },
  {
   "cell_type": "markdown",
   "id": "918eff27",
   "metadata": {},
   "source": [
    "## Fitting Generalized Linear Mixed Model"
   ]
  },
  {
   "cell_type": "markdown",
   "id": "d4a362b3",
   "metadata": {},
   "source": [
    "“When a sample exhausts the population, the corresponding variable is fixed; when the sample is a small (i.e., negligible) part of the population the corresponding variable is random.” (Green and Tukey, 1960).\n",
    "\n",
    "Only 6 subjects have participated in the trial which is a very small part of the study population. Thus, considering the variable Subject as fixed, limits the analysis to sample and cannot be generalized to the entire study population. So, the variable subject is to taken as a random effect which accounts for the whole study population.\n",
    "\n",
    "Since the model2 has been the most accurate and best fit among the 3 models, we now fit a model completely similar to model2 except for the variable Subject, which is to be taken as a random effect."
   ]
  },
  {
   "cell_type": "code",
   "execution_count": 15,
   "id": "979bdace",
   "metadata": {},
   "outputs": [
    {
     "name": "stderr",
     "output_type": "stream",
     "text": [
      "Warning message:\n",
      "\"package 'lme4' was built under R version 3.6.3\"Loading required package: Matrix\n"
     ]
    },
    {
     "data": {
      "text/plain": [
       "Generalized linear mixed model fit by maximum likelihood (Laplace\n",
       "  Approximation) [glmerMod]\n",
       " Family: Gamma  ( identity )\n",
       "Formula: conc ~ time_inverse + (1 | Subject)\n",
       "\n",
       "     AIC      BIC   logLik deviance df.resid \n",
       "  -131.3   -122.5     69.6   -139.3       62 \n",
       "\n",
       "Scaled residuals: \n",
       "     Min       1Q   Median       3Q      Max \n",
       "-1.58975 -0.81742 -0.09783  0.75494  2.68918 \n",
       "\n",
       "Random effects:\n",
       " Groups   Name        Variance Std.Dev.\n",
       " Subject  (Intercept) 0.000319 0.01786 \n",
       " Residual             0.063906 0.25280 \n",
       "Number of obs: 66, groups:  Subject, 6\n",
       "\n",
       "Fixed effects:\n",
       "              Estimate Std. Error t value Pr(>|z|)    \n",
       "(Intercept)  -0.002116   0.015849  -0.134    0.894    \n",
       "time_inverse  0.635091   0.028015  22.670   <2e-16 ***\n",
       "---\n",
       "Signif. codes:  0 '***' 0.001 '**' 0.01 '*' 0.05 '.' 0.1 ' ' 1\n",
       "\n",
       "Correlation of Fixed Effects:\n",
       "            (Intr)\n",
       "time_invers -0.377"
      ]
     },
     "metadata": {},
     "output_type": "display_data"
    }
   ],
   "source": [
    "library(lme4)\n",
    "glmm_model = glmer(conc ~ time_inverse + (1|Subject),family = Gamma(link = \"identity\"))\n",
    "summary(glmm_model)"
   ]
  },
  {
   "cell_type": "markdown",
   "id": "b47f5992",
   "metadata": {},
   "source": [
    "Therefore, the Population model is:$$E(conc|time,Subject)=-0.0021+0.6351(\\frac{1}{time})+N(0,0.0179)$$"
   ]
  },
  {
   "cell_type": "markdown",
   "id": "f21748f8",
   "metadata": {},
   "source": [
    "It can be concluded that the model is a really good fit for that data with an AIC of -131.3 and is ready for the real world setting as it gives a strong realtion between concentration and time, and also it addresses the entire population by treating Subject as random variable."
   ]
  }
 ],
 "metadata": {
  "kernelspec": {
   "display_name": "R",
   "language": "R",
   "name": "ir"
  },
  "language_info": {
   "codemirror_mode": "r",
   "file_extension": ".r",
   "mimetype": "text/x-r-source",
   "name": "R",
   "pygments_lexer": "r",
   "version": "4.0.5"
  }
 },
 "nbformat": 4,
 "nbformat_minor": 5
}
